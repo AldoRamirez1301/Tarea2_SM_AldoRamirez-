{
 "cells": [
  {
   "cell_type": "markdown",
   "metadata": {},
   "source": [
    "## Spotlight: Why Python Training Is Totally Worth It"
   ]
  },
  {
   "cell_type": "markdown",
   "metadata": {},
   "source": [
    "Si quieres empezar a usar **python** no debes de tenerle miedo ya que para empezar su instalación es muy facil, incluso varios dispodsitivos ya viene preinstalada como lo es lynux o incluso la gran marca reconocida \"HP\" \n",
    "\n",
    "En cuanto a \"*frameworks*\" se recomienda empezar usando flask ya que es mas para principiantes y Django se requiere un ser un poco mas avanzado ya que se utiliza para crear proyectos de desarrollo directos.\n",
    "\n",
    "En python el aprendizaje automatico es demasiado util ya que se puede usar para crear algoritmos que detecten patrones como por ejemplo el reconocimiento facial o de huella de tu telefono. \n",
    "\n",
    "Así como también este lenguaje se utiliza demasiado en empresas que quieren tener/crear alguna pagina web alguna aplicacion que pueda servir par dar un mejor rendimiento a su negocio. Además que la mayor ventaja es que las capacitaciones se pueden hacer en las mismas oficinas y no se pierde el tiempo en traslados para llegar a la capacitacion. \n",
    "\n"
   ]
  }
 ],
 "metadata": {
  "kernelspec": {
   "display_name": "Python 3",
   "language": "python",
   "name": "python3"
  },
  "language_info": {
   "codemirror_mode": {
    "name": "ipython",
    "version": 3
   },
   "file_extension": ".py",
   "mimetype": "text/x-python",
   "name": "python",
   "nbconvert_exporter": "python",
   "pygments_lexer": "ipython3",
   "version": "3.8.3"
  }
 },
 "nbformat": 4,
 "nbformat_minor": 4
}
