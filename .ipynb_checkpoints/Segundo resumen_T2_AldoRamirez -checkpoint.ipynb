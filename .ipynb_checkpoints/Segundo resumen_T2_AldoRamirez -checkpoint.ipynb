{
 "cells": [
  {
   "cell_type": "markdown",
   "metadata": {},
   "source": [
    "## 5 reasons you should learn Python now"
   ]
  },
  {
   "cell_type": "markdown",
   "metadata": {},
   "source": [
    "ython es de demasiado utilidad ya que te ayuda a pensar como un gran programador experto pero sin una syntaxis confusa y dificil, otra ventaja es que python tiene un manera muy facil de instalarse. \n",
    "\n",
    "Python es tan facil y famoso que hasta las empresas grandes de aplicaciones que usamos a diario como lo son Netflix, Spotifiy o google hacen uso de dicho lenguaje, por ejemplo Spotify usa java para la mayoria de las cosas pero tambien hace uso de python para su API web, asi como tambien usa python para su análisis de datos y otros procesos que nosotros como clientes no podemos percibir. \n",
    "\n",
    "Netflix hace uso de una mezcla de lenguajes como Java, Python o Scala y ya si tienen algun problema ellos hacen el analisis y deciden usar el lenguaje con el cual sea mas fácil resolver el problema. \n",
    "\n",
    "Al ser un lenguaje muy facil de usar y para poder hacer prototipos demasiado rapido... es por eso que estas empresas deciden hacer uso de python. Python te puede ayudar a hacer lo que tu quieras por ejemplo algo con imágenes, existe *Python Imaging Library* o si quieres diseñar algun videojuego existe *PyGame* entre otras. \n"
   ]
  }
 ],
 "metadata": {
  "kernelspec": {
   "display_name": "Python 3",
   "language": "python",
   "name": "python3"
  },
  "language_info": {
   "codemirror_mode": {
    "name": "ipython",
    "version": 3
   },
   "file_extension": ".py",
   "mimetype": "text/x-python",
   "name": "python",
   "nbconvert_exporter": "python",
   "pygments_lexer": "ipython3",
   "version": "3.8.3"
  }
 },
 "nbformat": 4,
 "nbformat_minor": 4
}
